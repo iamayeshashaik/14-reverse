{
  "cells": [
    {
      "cell_type": "markdown",
      "metadata": {
        "id": "view-in-github",
        "colab_type": "text"
      },
      "source": [
        "<a href=\"https://colab.research.google.com/github/iamayeshashaik/14-reverse/blob/main/question_4.ipynb\" target=\"_parent\"><img src=\"https://colab.research.google.com/assets/colab-badge.svg\" alt=\"Open In Colab\"/></a>"
      ]
    },
    {
      "cell_type": "markdown",
      "metadata": {
        "id": "iVBIK1W3-fWc"
      },
      "source": [
        "Question 3 [Marks 40]\n",
        "\n",
        "\n",
        "Predicting Shopping Mall Sales. You will have to create a model to predict\n",
        "revenue. Identify the model with the best params. Target Column -\n",
        "Revenue. Please note: Visualisation is mandatory. You will receive 0 marks\n",
        "if you do not add visualisation.\n",
        "\n",
        "Data Link -https://github.com/edyoda/data-science-complete-tutorial/blob/master/Data/Shopping_Revenue.csv"
      ]
    },
    {
      "cell_type": "code",
      "execution_count": null,
      "metadata": {
        "id": "Z8dbqxUd-fWg"
      },
      "outputs": [],
      "source": [
        "# Importing Necessary Libraries\n",
        "import pandas as pd\n",
        "import numpy as np\n",
        "import matplotlib.pyplot as plt\n",
        "import seaborn as sns\n",
        "import sklearn.model_selection as ms\n",
        "from sklearn.preprocessing import LabelEncoder\n",
        "from sklearn.preprocessing import OneHotEncoder\n",
        "from sklearn.linear_model import LinearRegression\n",
        "from sklearn.metrics import mean_squared_error\n",
        "from sklearn.metrics import r2_score"
      ]
    },
    {
      "cell_type": "markdown",
      "metadata": {
        "id": "zR6LXcVI-fWh"
      },
      "source": [
        "Loading Dataset"
      ]
    },
    {
      "cell_type": "code",
      "execution_count": null,
      "metadata": {
        "id": "11G89vLc-fWh",
        "outputId": "d82f892c-3d69-40b3-ea87-eadf4dd12c0e"
      },
      "outputs": [
        {
          "data": {
            "text/html": [
              "<div>\n",
              "<style scoped>\n",
              "    .dataframe tbody tr th:only-of-type {\n",
              "        vertical-align: middle;\n",
              "    }\n",
              "\n",
              "    .dataframe tbody tr th {\n",
              "        vertical-align: top;\n",
              "    }\n",
              "\n",
              "    .dataframe thead th {\n",
              "        text-align: right;\n",
              "    }\n",
              "</style>\n",
              "<table border=\"1\" class=\"dataframe\">\n",
              "  <thead>\n",
              "    <tr style=\"text-align: right;\">\n",
              "      <th></th>\n",
              "      <th>Id</th>\n",
              "      <th>Open Date</th>\n",
              "      <th>City</th>\n",
              "      <th>City Group</th>\n",
              "      <th>Type</th>\n",
              "      <th>P1</th>\n",
              "      <th>P2</th>\n",
              "      <th>P3</th>\n",
              "      <th>P4</th>\n",
              "      <th>P5</th>\n",
              "      <th>...</th>\n",
              "      <th>P29</th>\n",
              "      <th>P30</th>\n",
              "      <th>P31</th>\n",
              "      <th>P32</th>\n",
              "      <th>P33</th>\n",
              "      <th>P34</th>\n",
              "      <th>P35</th>\n",
              "      <th>P36</th>\n",
              "      <th>P37</th>\n",
              "      <th>revenue</th>\n",
              "    </tr>\n",
              "  </thead>\n",
              "  <tbody>\n",
              "    <tr>\n",
              "      <th>0</th>\n",
              "      <td>0</td>\n",
              "      <td>7/17/1999</td>\n",
              "      <td>İstanbul</td>\n",
              "      <td>Big Cities</td>\n",
              "      <td>IL</td>\n",
              "      <td>4</td>\n",
              "      <td>5.0</td>\n",
              "      <td>4.0</td>\n",
              "      <td>4.0</td>\n",
              "      <td>2</td>\n",
              "      <td>...</td>\n",
              "      <td>3.0</td>\n",
              "      <td>5</td>\n",
              "      <td>3</td>\n",
              "      <td>4</td>\n",
              "      <td>5</td>\n",
              "      <td>5</td>\n",
              "      <td>4</td>\n",
              "      <td>3</td>\n",
              "      <td>4</td>\n",
              "      <td>5653753</td>\n",
              "    </tr>\n",
              "    <tr>\n",
              "      <th>1</th>\n",
              "      <td>1</td>\n",
              "      <td>2/14/2008</td>\n",
              "      <td>Ankara</td>\n",
              "      <td>Big Cities</td>\n",
              "      <td>FC</td>\n",
              "      <td>4</td>\n",
              "      <td>5.0</td>\n",
              "      <td>4.0</td>\n",
              "      <td>4.0</td>\n",
              "      <td>1</td>\n",
              "      <td>...</td>\n",
              "      <td>3.0</td>\n",
              "      <td>0</td>\n",
              "      <td>0</td>\n",
              "      <td>0</td>\n",
              "      <td>0</td>\n",
              "      <td>0</td>\n",
              "      <td>0</td>\n",
              "      <td>0</td>\n",
              "      <td>0</td>\n",
              "      <td>6923131</td>\n",
              "    </tr>\n",
              "    <tr>\n",
              "      <th>2</th>\n",
              "      <td>2</td>\n",
              "      <td>3/9/2013</td>\n",
              "      <td>Diyarbakır</td>\n",
              "      <td>Other</td>\n",
              "      <td>IL</td>\n",
              "      <td>2</td>\n",
              "      <td>4.0</td>\n",
              "      <td>2.0</td>\n",
              "      <td>5.0</td>\n",
              "      <td>2</td>\n",
              "      <td>...</td>\n",
              "      <td>3.0</td>\n",
              "      <td>0</td>\n",
              "      <td>0</td>\n",
              "      <td>0</td>\n",
              "      <td>0</td>\n",
              "      <td>0</td>\n",
              "      <td>0</td>\n",
              "      <td>0</td>\n",
              "      <td>0</td>\n",
              "      <td>2055379</td>\n",
              "    </tr>\n",
              "    <tr>\n",
              "      <th>3</th>\n",
              "      <td>3</td>\n",
              "      <td>2/2/2012</td>\n",
              "      <td>Tokat</td>\n",
              "      <td>Other</td>\n",
              "      <td>IL</td>\n",
              "      <td>6</td>\n",
              "      <td>4.5</td>\n",
              "      <td>6.0</td>\n",
              "      <td>6.0</td>\n",
              "      <td>4</td>\n",
              "      <td>...</td>\n",
              "      <td>7.5</td>\n",
              "      <td>25</td>\n",
              "      <td>12</td>\n",
              "      <td>10</td>\n",
              "      <td>6</td>\n",
              "      <td>18</td>\n",
              "      <td>12</td>\n",
              "      <td>12</td>\n",
              "      <td>6</td>\n",
              "      <td>2675511</td>\n",
              "    </tr>\n",
              "    <tr>\n",
              "      <th>4</th>\n",
              "      <td>4</td>\n",
              "      <td>5/9/2009</td>\n",
              "      <td>Gaziantep</td>\n",
              "      <td>Other</td>\n",
              "      <td>IL</td>\n",
              "      <td>3</td>\n",
              "      <td>4.0</td>\n",
              "      <td>3.0</td>\n",
              "      <td>4.0</td>\n",
              "      <td>2</td>\n",
              "      <td>...</td>\n",
              "      <td>3.0</td>\n",
              "      <td>5</td>\n",
              "      <td>1</td>\n",
              "      <td>3</td>\n",
              "      <td>2</td>\n",
              "      <td>3</td>\n",
              "      <td>4</td>\n",
              "      <td>3</td>\n",
              "      <td>3</td>\n",
              "      <td>4316715</td>\n",
              "    </tr>\n",
              "  </tbody>\n",
              "</table>\n",
              "<p>5 rows × 43 columns</p>\n",
              "</div>"
            ],
            "text/plain": [
              "   Id  Open Date        City  City Group Type  P1   P2   P3   P4  P5  ...  \\\n",
              "0   0  7/17/1999    İstanbul  Big Cities   IL   4  5.0  4.0  4.0   2  ...   \n",
              "1   1  2/14/2008      Ankara  Big Cities   FC   4  5.0  4.0  4.0   1  ...   \n",
              "2   2   3/9/2013  Diyarbakır       Other   IL   2  4.0  2.0  5.0   2  ...   \n",
              "3   3   2/2/2012       Tokat       Other   IL   6  4.5  6.0  6.0   4  ...   \n",
              "4   4   5/9/2009   Gaziantep       Other   IL   3  4.0  3.0  4.0   2  ...   \n",
              "\n",
              "   P29  P30  P31  P32  P33  P34  P35  P36  P37  revenue  \n",
              "0  3.0    5    3    4    5    5    4    3    4  5653753  \n",
              "1  3.0    0    0    0    0    0    0    0    0  6923131  \n",
              "2  3.0    0    0    0    0    0    0    0    0  2055379  \n",
              "3  7.5   25   12   10    6   18   12   12    6  2675511  \n",
              "4  3.0    5    1    3    2    3    4    3    3  4316715  \n",
              "\n",
              "[5 rows x 43 columns]"
            ]
          },
          "execution_count": 347,
          "metadata": {},
          "output_type": "execute_result"
        }
      ],
      "source": [
        "df = pd.read_csv(\"D:\\Desktop\\Ds exam\\Shopping_Revenue.csv\")\n",
        "df.head()"
      ]
    },
    {
      "cell_type": "code",
      "execution_count": null,
      "metadata": {
        "id": "2WFRmPM5-fWi",
        "outputId": "516e74e6-e1aa-45ea-807a-3bbc2acbaf4a"
      },
      "outputs": [
        {
          "data": {
            "text/plain": [
              "(137, 43)"
            ]
          },
          "execution_count": 348,
          "metadata": {},
          "output_type": "execute_result"
        }
      ],
      "source": [
        "df.shape"
      ]
    },
    {
      "cell_type": "code",
      "execution_count": null,
      "metadata": {
        "id": "SRnDBhsZ-fWi",
        "outputId": "047c7120-b551-44df-a70b-75499c3f5cbc"
      },
      "outputs": [
        {
          "name": "stdout",
          "output_type": "stream",
          "text": [
            "<class 'pandas.core.frame.DataFrame'>\n",
            "RangeIndex: 137 entries, 0 to 136\n",
            "Data columns (total 43 columns):\n",
            " #   Column      Non-Null Count  Dtype  \n",
            "---  ------      --------------  -----  \n",
            " 0   Id          137 non-null    int64  \n",
            " 1   Open Date   137 non-null    object \n",
            " 2   City        137 non-null    object \n",
            " 3   City Group  137 non-null    object \n",
            " 4   Type        137 non-null    object \n",
            " 5   P1          137 non-null    int64  \n",
            " 6   P2          137 non-null    float64\n",
            " 7   P3          137 non-null    float64\n",
            " 8   P4          137 non-null    float64\n",
            " 9   P5          137 non-null    int64  \n",
            " 10  P6          133 non-null    float64\n",
            " 11  P7          133 non-null    float64\n",
            " 12  P8          137 non-null    int64  \n",
            " 13  P9          137 non-null    int64  \n",
            " 14  P10         137 non-null    int64  \n",
            " 15  P11         137 non-null    int64  \n",
            " 16  P12         137 non-null    int64  \n",
            " 17  P13         137 non-null    float64\n",
            " 18  P14         137 non-null    int64  \n",
            " 19  P15         137 non-null    int64  \n",
            " 20  P16         137 non-null    int64  \n",
            " 21  P17         137 non-null    int64  \n",
            " 22  P18         137 non-null    int64  \n",
            " 23  P19         137 non-null    int64  \n",
            " 24  P20         137 non-null    int64  \n",
            " 25  P21         137 non-null    int64  \n",
            " 26  P22         137 non-null    int64  \n",
            " 27  P23         137 non-null    int64  \n",
            " 28  P24         137 non-null    int64  \n",
            " 29  P25         137 non-null    int64  \n",
            " 30  P26         137 non-null    float64\n",
            " 31  P27         137 non-null    float64\n",
            " 32  P28         137 non-null    float64\n",
            " 33  P29         137 non-null    float64\n",
            " 34  P30         137 non-null    int64  \n",
            " 35  P31         137 non-null    int64  \n",
            " 36  P32         137 non-null    int64  \n",
            " 37  P33         137 non-null    int64  \n",
            " 38  P34         137 non-null    int64  \n",
            " 39  P35         137 non-null    int64  \n",
            " 40  P36         137 non-null    int64  \n",
            " 41  P37         137 non-null    int64  \n",
            " 42  revenue     137 non-null    int64  \n",
            "dtypes: float64(10), int64(29), object(4)\n",
            "memory usage: 46.1+ KB\n"
          ]
        }
      ],
      "source": [
        "df.info()"
      ]
    },
    {
      "cell_type": "code",
      "execution_count": null,
      "metadata": {
        "id": "FjFVPNIA-fWi",
        "outputId": "1751924a-097a-45ae-c756-cc7649c4b28c"
      },
      "outputs": [
        {
          "data": {
            "text/html": [
              "<div>\n",
              "<style scoped>\n",
              "    .dataframe tbody tr th:only-of-type {\n",
              "        vertical-align: middle;\n",
              "    }\n",
              "\n",
              "    .dataframe tbody tr th {\n",
              "        vertical-align: top;\n",
              "    }\n",
              "\n",
              "    .dataframe thead th {\n",
              "        text-align: right;\n",
              "    }\n",
              "</style>\n",
              "<table border=\"1\" class=\"dataframe\">\n",
              "  <thead>\n",
              "    <tr style=\"text-align: right;\">\n",
              "      <th></th>\n",
              "      <th>Id</th>\n",
              "      <th>P1</th>\n",
              "      <th>P2</th>\n",
              "      <th>P3</th>\n",
              "      <th>P4</th>\n",
              "      <th>P5</th>\n",
              "      <th>P6</th>\n",
              "      <th>P7</th>\n",
              "      <th>P8</th>\n",
              "      <th>P9</th>\n",
              "      <th>...</th>\n",
              "      <th>P29</th>\n",
              "      <th>P30</th>\n",
              "      <th>P31</th>\n",
              "      <th>P32</th>\n",
              "      <th>P33</th>\n",
              "      <th>P34</th>\n",
              "      <th>P35</th>\n",
              "      <th>P36</th>\n",
              "      <th>P37</th>\n",
              "      <th>revenue</th>\n",
              "    </tr>\n",
              "  </thead>\n",
              "  <tbody>\n",
              "    <tr>\n",
              "      <th>count</th>\n",
              "      <td>137.000000</td>\n",
              "      <td>137.000000</td>\n",
              "      <td>137.000000</td>\n",
              "      <td>137.000000</td>\n",
              "      <td>137.000000</td>\n",
              "      <td>137.000000</td>\n",
              "      <td>133.000000</td>\n",
              "      <td>133.000000</td>\n",
              "      <td>137.000000</td>\n",
              "      <td>137.000000</td>\n",
              "      <td>...</td>\n",
              "      <td>137.000000</td>\n",
              "      <td>137.000000</td>\n",
              "      <td>137.000000</td>\n",
              "      <td>137.000000</td>\n",
              "      <td>137.000000</td>\n",
              "      <td>137.000000</td>\n",
              "      <td>137.000000</td>\n",
              "      <td>137.000000</td>\n",
              "      <td>137.000000</td>\n",
              "      <td>1.370000e+02</td>\n",
              "    </tr>\n",
              "    <tr>\n",
              "      <th>mean</th>\n",
              "      <td>68.000000</td>\n",
              "      <td>4.014599</td>\n",
              "      <td>4.408759</td>\n",
              "      <td>4.317518</td>\n",
              "      <td>4.372263</td>\n",
              "      <td>2.007299</td>\n",
              "      <td>3.323308</td>\n",
              "      <td>5.398496</td>\n",
              "      <td>5.153285</td>\n",
              "      <td>5.445255</td>\n",
              "      <td>...</td>\n",
              "      <td>3.135036</td>\n",
              "      <td>2.729927</td>\n",
              "      <td>1.941606</td>\n",
              "      <td>2.525547</td>\n",
              "      <td>1.138686</td>\n",
              "      <td>2.489051</td>\n",
              "      <td>2.029197</td>\n",
              "      <td>2.211679</td>\n",
              "      <td>1.116788</td>\n",
              "      <td>4.453533e+06</td>\n",
              "    </tr>\n",
              "    <tr>\n",
              "      <th>std</th>\n",
              "      <td>39.692569</td>\n",
              "      <td>2.910391</td>\n",
              "      <td>1.514900</td>\n",
              "      <td>1.032337</td>\n",
              "      <td>1.016462</td>\n",
              "      <td>1.209620</td>\n",
              "      <td>2.080024</td>\n",
              "      <td>2.296044</td>\n",
              "      <td>1.858567</td>\n",
              "      <td>1.834793</td>\n",
              "      <td>...</td>\n",
              "      <td>1.680887</td>\n",
              "      <td>5.536647</td>\n",
              "      <td>3.512093</td>\n",
              "      <td>5.230117</td>\n",
              "      <td>1.698540</td>\n",
              "      <td>5.165093</td>\n",
              "      <td>3.436272</td>\n",
              "      <td>4.168211</td>\n",
              "      <td>1.790768</td>\n",
              "      <td>2.576072e+06</td>\n",
              "    </tr>\n",
              "    <tr>\n",
              "      <th>min</th>\n",
              "      <td>0.000000</td>\n",
              "      <td>1.000000</td>\n",
              "      <td>1.000000</td>\n",
              "      <td>0.000000</td>\n",
              "      <td>3.000000</td>\n",
              "      <td>1.000000</td>\n",
              "      <td>1.000000</td>\n",
              "      <td>1.000000</td>\n",
              "      <td>1.000000</td>\n",
              "      <td>4.000000</td>\n",
              "      <td>...</td>\n",
              "      <td>0.000000</td>\n",
              "      <td>0.000000</td>\n",
              "      <td>0.000000</td>\n",
              "      <td>0.000000</td>\n",
              "      <td>0.000000</td>\n",
              "      <td>0.000000</td>\n",
              "      <td>0.000000</td>\n",
              "      <td>0.000000</td>\n",
              "      <td>0.000000</td>\n",
              "      <td>1.149870e+06</td>\n",
              "    </tr>\n",
              "    <tr>\n",
              "      <th>25%</th>\n",
              "      <td>34.000000</td>\n",
              "      <td>2.000000</td>\n",
              "      <td>4.000000</td>\n",
              "      <td>4.000000</td>\n",
              "      <td>4.000000</td>\n",
              "      <td>1.000000</td>\n",
              "      <td>2.000000</td>\n",
              "      <td>5.000000</td>\n",
              "      <td>4.000000</td>\n",
              "      <td>4.000000</td>\n",
              "      <td>...</td>\n",
              "      <td>2.500000</td>\n",
              "      <td>0.000000</td>\n",
              "      <td>0.000000</td>\n",
              "      <td>0.000000</td>\n",
              "      <td>0.000000</td>\n",
              "      <td>0.000000</td>\n",
              "      <td>0.000000</td>\n",
              "      <td>0.000000</td>\n",
              "      <td>0.000000</td>\n",
              "      <td>2.999068e+06</td>\n",
              "    </tr>\n",
              "    <tr>\n",
              "      <th>50%</th>\n",
              "      <td>68.000000</td>\n",
              "      <td>3.000000</td>\n",
              "      <td>5.000000</td>\n",
              "      <td>4.000000</td>\n",
              "      <td>4.000000</td>\n",
              "      <td>2.000000</td>\n",
              "      <td>3.000000</td>\n",
              "      <td>5.000000</td>\n",
              "      <td>5.000000</td>\n",
              "      <td>5.000000</td>\n",
              "      <td>...</td>\n",
              "      <td>3.000000</td>\n",
              "      <td>0.000000</td>\n",
              "      <td>0.000000</td>\n",
              "      <td>0.000000</td>\n",
              "      <td>0.000000</td>\n",
              "      <td>0.000000</td>\n",
              "      <td>0.000000</td>\n",
              "      <td>0.000000</td>\n",
              "      <td>0.000000</td>\n",
              "      <td>3.939804e+06</td>\n",
              "    </tr>\n",
              "    <tr>\n",
              "      <th>75%</th>\n",
              "      <td>102.000000</td>\n",
              "      <td>4.000000</td>\n",
              "      <td>5.000000</td>\n",
              "      <td>5.000000</td>\n",
              "      <td>5.000000</td>\n",
              "      <td>2.000000</td>\n",
              "      <td>4.000000</td>\n",
              "      <td>5.000000</td>\n",
              "      <td>5.000000</td>\n",
              "      <td>5.000000</td>\n",
              "      <td>...</td>\n",
              "      <td>3.000000</td>\n",
              "      <td>4.000000</td>\n",
              "      <td>3.000000</td>\n",
              "      <td>3.000000</td>\n",
              "      <td>2.000000</td>\n",
              "      <td>3.000000</td>\n",
              "      <td>4.000000</td>\n",
              "      <td>3.000000</td>\n",
              "      <td>2.000000</td>\n",
              "      <td>5.166635e+06</td>\n",
              "    </tr>\n",
              "    <tr>\n",
              "      <th>max</th>\n",
              "      <td>136.000000</td>\n",
              "      <td>12.000000</td>\n",
              "      <td>7.500000</td>\n",
              "      <td>7.500000</td>\n",
              "      <td>7.500000</td>\n",
              "      <td>8.000000</td>\n",
              "      <td>10.000000</td>\n",
              "      <td>10.000000</td>\n",
              "      <td>10.000000</td>\n",
              "      <td>10.000000</td>\n",
              "      <td>...</td>\n",
              "      <td>7.500000</td>\n",
              "      <td>25.000000</td>\n",
              "      <td>15.000000</td>\n",
              "      <td>25.000000</td>\n",
              "      <td>6.000000</td>\n",
              "      <td>24.000000</td>\n",
              "      <td>15.000000</td>\n",
              "      <td>20.000000</td>\n",
              "      <td>8.000000</td>\n",
              "      <td>1.969694e+07</td>\n",
              "    </tr>\n",
              "  </tbody>\n",
              "</table>\n",
              "<p>8 rows × 39 columns</p>\n",
              "</div>"
            ],
            "text/plain": [
              "               Id          P1          P2          P3          P4          P5  \\\n",
              "count  137.000000  137.000000  137.000000  137.000000  137.000000  137.000000   \n",
              "mean    68.000000    4.014599    4.408759    4.317518    4.372263    2.007299   \n",
              "std     39.692569    2.910391    1.514900    1.032337    1.016462    1.209620   \n",
              "min      0.000000    1.000000    1.000000    0.000000    3.000000    1.000000   \n",
              "25%     34.000000    2.000000    4.000000    4.000000    4.000000    1.000000   \n",
              "50%     68.000000    3.000000    5.000000    4.000000    4.000000    2.000000   \n",
              "75%    102.000000    4.000000    5.000000    5.000000    5.000000    2.000000   \n",
              "max    136.000000   12.000000    7.500000    7.500000    7.500000    8.000000   \n",
              "\n",
              "               P6          P7          P8          P9  ...         P29  \\\n",
              "count  133.000000  133.000000  137.000000  137.000000  ...  137.000000   \n",
              "mean     3.323308    5.398496    5.153285    5.445255  ...    3.135036   \n",
              "std      2.080024    2.296044    1.858567    1.834793  ...    1.680887   \n",
              "min      1.000000    1.000000    1.000000    4.000000  ...    0.000000   \n",
              "25%      2.000000    5.000000    4.000000    4.000000  ...    2.500000   \n",
              "50%      3.000000    5.000000    5.000000    5.000000  ...    3.000000   \n",
              "75%      4.000000    5.000000    5.000000    5.000000  ...    3.000000   \n",
              "max     10.000000   10.000000   10.000000   10.000000  ...    7.500000   \n",
              "\n",
              "              P30         P31         P32         P33         P34         P35  \\\n",
              "count  137.000000  137.000000  137.000000  137.000000  137.000000  137.000000   \n",
              "mean     2.729927    1.941606    2.525547    1.138686    2.489051    2.029197   \n",
              "std      5.536647    3.512093    5.230117    1.698540    5.165093    3.436272   \n",
              "min      0.000000    0.000000    0.000000    0.000000    0.000000    0.000000   \n",
              "25%      0.000000    0.000000    0.000000    0.000000    0.000000    0.000000   \n",
              "50%      0.000000    0.000000    0.000000    0.000000    0.000000    0.000000   \n",
              "75%      4.000000    3.000000    3.000000    2.000000    3.000000    4.000000   \n",
              "max     25.000000   15.000000   25.000000    6.000000   24.000000   15.000000   \n",
              "\n",
              "              P36         P37       revenue  \n",
              "count  137.000000  137.000000  1.370000e+02  \n",
              "mean     2.211679    1.116788  4.453533e+06  \n",
              "std      4.168211    1.790768  2.576072e+06  \n",
              "min      0.000000    0.000000  1.149870e+06  \n",
              "25%      0.000000    0.000000  2.999068e+06  \n",
              "50%      0.000000    0.000000  3.939804e+06  \n",
              "75%      3.000000    2.000000  5.166635e+06  \n",
              "max     20.000000    8.000000  1.969694e+07  \n",
              "\n",
              "[8 rows x 39 columns]"
            ]
          },
          "execution_count": 350,
          "metadata": {},
          "output_type": "execute_result"
        }
      ],
      "source": [
        "df.describe()"
      ]
    },
    {
      "cell_type": "markdown",
      "metadata": {
        "id": "TrOIGvUv-fWj"
      },
      "source": [
        "Droping Unnecessary columns"
      ]
    },
    {
      "cell_type": "code",
      "execution_count": null,
      "metadata": {
        "id": "MJULwd_N-fWj"
      },
      "outputs": [],
      "source": [
        "df.drop(df[['Open Date','Id','P1', 'P2', 'P3', 'P4',\n",
        "       'P5', 'P6', 'P7', 'P8', 'P9', 'P10', 'P11', 'P12', 'P13', 'P14', 'P15',\n",
        "       'P16', 'P17', 'P18', 'P19', 'P20', 'P21', 'P22', 'P23', 'P24', 'P25',\n",
        "       'P26', 'P27', 'P28', 'P29', 'P30', 'P31', 'P32', 'P33', 'P34', 'P35',\n",
        "       'P36', 'P37']],axis=1,inplace=True)"
      ]
    },
    {
      "cell_type": "code",
      "execution_count": null,
      "metadata": {
        "id": "3tKG6ULi-fWj",
        "outputId": "a7b00819-7924-4a28-b277-0e92db9437da"
      },
      "outputs": [
        {
          "data": {
            "text/html": [
              "<div>\n",
              "<style scoped>\n",
              "    .dataframe tbody tr th:only-of-type {\n",
              "        vertical-align: middle;\n",
              "    }\n",
              "\n",
              "    .dataframe tbody tr th {\n",
              "        vertical-align: top;\n",
              "    }\n",
              "\n",
              "    .dataframe thead th {\n",
              "        text-align: right;\n",
              "    }\n",
              "</style>\n",
              "<table border=\"1\" class=\"dataframe\">\n",
              "  <thead>\n",
              "    <tr style=\"text-align: right;\">\n",
              "      <th></th>\n",
              "      <th>City</th>\n",
              "      <th>City Group</th>\n",
              "      <th>Type</th>\n",
              "      <th>revenue</th>\n",
              "    </tr>\n",
              "  </thead>\n",
              "  <tbody>\n",
              "    <tr>\n",
              "      <th>0</th>\n",
              "      <td>İstanbul</td>\n",
              "      <td>Big Cities</td>\n",
              "      <td>IL</td>\n",
              "      <td>5653753</td>\n",
              "    </tr>\n",
              "    <tr>\n",
              "      <th>1</th>\n",
              "      <td>Ankara</td>\n",
              "      <td>Big Cities</td>\n",
              "      <td>FC</td>\n",
              "      <td>6923131</td>\n",
              "    </tr>\n",
              "    <tr>\n",
              "      <th>2</th>\n",
              "      <td>Diyarbakır</td>\n",
              "      <td>Other</td>\n",
              "      <td>IL</td>\n",
              "      <td>2055379</td>\n",
              "    </tr>\n",
              "    <tr>\n",
              "      <th>3</th>\n",
              "      <td>Tokat</td>\n",
              "      <td>Other</td>\n",
              "      <td>IL</td>\n",
              "      <td>2675511</td>\n",
              "    </tr>\n",
              "    <tr>\n",
              "      <th>4</th>\n",
              "      <td>Gaziantep</td>\n",
              "      <td>Other</td>\n",
              "      <td>IL</td>\n",
              "      <td>4316715</td>\n",
              "    </tr>\n",
              "  </tbody>\n",
              "</table>\n",
              "</div>"
            ],
            "text/plain": [
              "         City  City Group Type  revenue\n",
              "0    İstanbul  Big Cities   IL  5653753\n",
              "1      Ankara  Big Cities   FC  6923131\n",
              "2  Diyarbakır       Other   IL  2055379\n",
              "3       Tokat       Other   IL  2675511\n",
              "4   Gaziantep       Other   IL  4316715"
            ]
          },
          "execution_count": 352,
          "metadata": {},
          "output_type": "execute_result"
        }
      ],
      "source": [
        "df.head()"
      ]
    },
    {
      "cell_type": "markdown",
      "metadata": {
        "id": "XjQKtmPc-fWj"
      },
      "source": [
        "## Data Visualization"
      ]
    },
    {
      "cell_type": "markdown",
      "metadata": {
        "id": "3JZ3pDlq-fWj"
      },
      "source": [
        "--> In revenue column the values in 10lakhs so Iam calculating Percentage of revenue by dividing 1Cr."
      ]
    },
    {
      "cell_type": "code",
      "execution_count": null,
      "metadata": {
        "id": "QNHxqIP9-fWj",
        "outputId": "19db5554-7c02-410e-f5c4-4956f4d53198"
      },
      "outputs": [
        {
          "data": {
            "image/png": "[encoded data removed]",
            "text/plain": [
              "<Figure size 2000x800 with 1 Axes>"
            ]
          },
          "metadata": {},
          "output_type": "display_data"
        }
      ],
      "source": [
        "reference_value = 10000000\n",
        "df['rev_perct'] = ((df['revenue'] / reference_value) *100)\n",
        "plt.figure(figsize=(20,8))\n",
        "rev = sns.barplot(x= df[\"City\"], y= df['rev_perct'], palette= \"Paired\", errorbar= None)\n",
        "plt.title('Revenue Generated by each City', fontsize= 15, fontweight= \"bold\")\n",
        "plt.xlabel(\"City\", fontsize= 15, fontweight= \"bold\")\n",
        "plt.ylabel(\"Revenue %\", fontsize= 15, fontweight= \"bold\")\n",
        "rev.bar_label(rev.containers[0], fmt='%.1f%%', fontweight= \"bold\")\n",
        "plt.xticks(rotation=90)\n",
        "plt.show()"
      ]
    },
    {
      "cell_type": "markdown",
      "metadata": {
        "id": "I0oGwcmx-fWk"
      },
      "source": [
        "--> By above plot we can see that istanbul is generating High revenue.\n",
        "\n",
        "\n",
        "--> Kirklareli is generating low revenue."
      ]
    },
    {
      "cell_type": "code",
      "execution_count": null,
      "metadata": {
        "id": "Ed8djlhq-fWk",
        "outputId": "d2f98696-2a7b-4d11-a766-bf5708ba826f"
      },
      "outputs": [
        {
          "data": {
            "text/html": [
              "<div>\n",
              "<style scoped>\n",
              "    .dataframe tbody tr th:only-of-type {\n",
              "        vertical-align: middle;\n",
              "    }\n",
              "\n",
              "    .dataframe tbody tr th {\n",
              "        vertical-align: top;\n",
              "    }\n",
              "\n",
              "    .dataframe thead th {\n",
              "        text-align: right;\n",
              "    }\n",
              "</style>\n",
              "<table border=\"1\" class=\"dataframe\">\n",
              "  <thead>\n",
              "    <tr style=\"text-align: right;\">\n",
              "      <th></th>\n",
              "      <th>City</th>\n",
              "      <th>City Group</th>\n",
              "      <th>Type</th>\n",
              "      <th>revenue</th>\n",
              "      <th>rev_perct</th>\n",
              "    </tr>\n",
              "  </thead>\n",
              "  <tbody>\n",
              "    <tr>\n",
              "      <th>0</th>\n",
              "      <td>İstanbul</td>\n",
              "      <td>Big Cities</td>\n",
              "      <td>IL</td>\n",
              "      <td>5653753</td>\n",
              "      <td>56.53753</td>\n",
              "    </tr>\n",
              "    <tr>\n",
              "      <th>1</th>\n",
              "      <td>Ankara</td>\n",
              "      <td>Big Cities</td>\n",
              "      <td>FC</td>\n",
              "      <td>6923131</td>\n",
              "      <td>69.23131</td>\n",
              "    </tr>\n",
              "    <tr>\n",
              "      <th>2</th>\n",
              "      <td>Diyarbakır</td>\n",
              "      <td>Other</td>\n",
              "      <td>IL</td>\n",
              "      <td>2055379</td>\n",
              "      <td>20.55379</td>\n",
              "    </tr>\n",
              "    <tr>\n",
              "      <th>3</th>\n",
              "      <td>Tokat</td>\n",
              "      <td>Other</td>\n",
              "      <td>IL</td>\n",
              "      <td>2675511</td>\n",
              "      <td>26.75511</td>\n",
              "    </tr>\n",
              "    <tr>\n",
              "      <th>4</th>\n",
              "      <td>Gaziantep</td>\n",
              "      <td>Other</td>\n",
              "      <td>IL</td>\n",
              "      <td>4316715</td>\n",
              "      <td>43.16715</td>\n",
              "    </tr>\n",
              "  </tbody>\n",
              "</table>\n",
              "</div>"
            ],
            "text/plain": [
              "         City  City Group Type  revenue  rev_perct\n",
              "0    İstanbul  Big Cities   IL  5653753   56.53753\n",
              "1      Ankara  Big Cities   FC  6923131   69.23131\n",
              "2  Diyarbakır       Other   IL  2055379   20.55379\n",
              "3       Tokat       Other   IL  2675511   26.75511\n",
              "4   Gaziantep       Other   IL  4316715   43.16715"
            ]
          },
          "execution_count": 354,
          "metadata": {},
          "output_type": "execute_result"
        }
      ],
      "source": [
        "df.head()"
      ]
    },
    {
      "cell_type": "code",
      "execution_count": null,
      "metadata": {
        "id": "5cdAeYq--fWk",
        "outputId": "c7cf04de-1e88-4d09-f8c0-8b200e0cd4de"
      },
      "outputs": [
        {
          "data": {
            "image/png": "[encoded data removed]",
            "text/plain": [
              "<Figure size 1000x500 with 1 Axes>"
            ]
          },
          "metadata": {},
          "output_type": "display_data"
        }
      ],
      "source": [
        "plt.figure(figsize=(10,5))\n",
        "rev = sns.barplot(x= df[\"City Group\"], y= df['rev_perct'], palette= \"Paired\", errorbar= None)\n",
        "plt.title('Revenue Generated by City Group', fontsize= 15, fontweight= \"bold\")\n",
        "plt.xlabel(\"City Group\", fontsize= 15, fontweight= \"bold\")\n",
        "plt.ylabel(\"Revenue %\", fontsize= 15, fontweight= \"bold\")\n",
        "rev.bar_label(rev.containers[0], fmt='%.1f%%', fontweight= \"bold\")\n",
        "plt.xticks(rotation=0)\n",
        "plt.show()"
      ]
    },
    {
      "cell_type": "markdown",
      "metadata": {
        "id": "skqkw8z6-fWk"
      },
      "source": [
        "--> From above plot we seen that Big cities are generating High revenue then other cities"
      ]
    },
    {
      "cell_type": "code",
      "execution_count": null,
      "metadata": {
        "id": "CXf1XLKU-fWk",
        "outputId": "6d04f99a-b483-4e34-ec51-e79026aa01da"
      },
      "outputs": [
        {
          "data": {
            "image/png": "[encoded data removed]",
            "text/plain": [
              "<Figure size 1200x400 with 1 Axes>"
            ]
          },
          "metadata": {},
          "output_type": "display_data"
        }
      ],
      "source": [
        "plt.figure(figsize=(12,4))\n",
        "rev = sns.barplot(x= df[\"Type\"], y= df['rev_perct'], palette= \"Paired\", errorbar= None)\n",
        "plt.title('Revenue Generated by Type', fontsize= 15, fontweight= \"bold\")\n",
        "plt.xlabel(\"Type\", fontsize= 15, fontweight= \"bold\")\n",
        "plt.ylabel(\"Revenue %\", fontsize= 15, fontweight= \"bold\")\n",
        "rev.bar_label(rev.containers[0], fmt='%.1f%%', fontweight= \"bold\")\n",
        "plt.xticks(rotation=0)\n",
        "plt.show()"
      ]
    },
    {
      "cell_type": "markdown",
      "metadata": {
        "id": "R3MQF3AG-fWl"
      },
      "source": [
        "--> FC type is generating more revenue followed by IL and DT."
      ]
    },
    {
      "cell_type": "markdown",
      "metadata": {
        "id": "4byqTLOM-fWl"
      },
      "source": [
        "## Model-1 -- Linear Regression"
      ]
    },
    {
      "cell_type": "markdown",
      "metadata": {
        "id": "sGDBgolm-fWl"
      },
      "source": [
        "## Creating a model to predict revenue"
      ]
    },
    {
      "cell_type": "markdown",
      "metadata": {
        "id": "hZdUbS_5-fWl"
      },
      "source": [
        "--> Encoding the City Column using Label Encoder"
      ]
    },
    {
      "cell_type": "code",
      "execution_count": null,
      "metadata": {
        "id": "SRS5HsJQ-fWl",
        "outputId": "54f665ca-241b-4fd5-827c-6da4b67984b3"
      },
      "outputs": [
        {
          "data": {
            "text/plain": [
              "Index(['City', 'City Group', 'Type', 'revenue', 'rev_perct'], dtype='object')"
            ]
          },
          "execution_count": 357,
          "metadata": {},
          "output_type": "execute_result"
        }
      ],
      "source": [
        "df.columns"
      ]
    },
    {
      "cell_type": "code",
      "execution_count": null,
      "metadata": {
        "id": "1bpAKkTF-fWl",
        "outputId": "17b594b3-4e58-46c0-f06f-d5674507ebd9"
      },
      "outputs": [
        {
          "name": "stdout",
          "output_type": "stream",
          "text": [
            "real labels is ['Adana' 'Afyonkarahisar' 'Amasya' 'Ankara' 'Antalya' 'Aydın' 'Balıkesir'\n",
            " 'Bolu' 'Bursa' 'Denizli' 'Diyarbakır' 'Edirne' 'Elazığ' 'Eskişehir'\n",
            " 'Gaziantep' 'Isparta' 'Karabük' 'Kastamonu' 'Kayseri' 'Kocaeli' 'Konya'\n",
            " 'Kütahya' 'Kırklareli' 'Muğla' 'Osmaniye' 'Sakarya' 'Samsun' 'Tekirdağ'\n",
            " 'Tokat' 'Trabzon' 'Uşak' 'İstanbul' 'İzmir' 'Şanlıurfa']\n"
          ]
        }
      ],
      "source": [
        "le = LabelEncoder()\n",
        "df[\"City\"] = le.fit_transform(df[\"City\"])\n",
        "print(\"real labels is\", le.classes_)"
      ]
    },
    {
      "cell_type": "code",
      "execution_count": null,
      "metadata": {
        "id": "8pGNU4KZ-fWl",
        "outputId": "3374eb2a-6d76-4701-c79c-7dc0cde79d1d"
      },
      "outputs": [
        {
          "data": {
            "text/html": [
              "<div>\n",
              "<style scoped>\n",
              "    .dataframe tbody tr th:only-of-type {\n",
              "        vertical-align: middle;\n",
              "    }\n",
              "\n",
              "    .dataframe tbody tr th {\n",
              "        vertical-align: top;\n",
              "    }\n",
              "\n",
              "    .dataframe thead th {\n",
              "        text-align: right;\n",
              "    }\n",
              "</style>\n",
              "<table border=\"1\" class=\"dataframe\">\n",
              "  <thead>\n",
              "    <tr style=\"text-align: right;\">\n",
              "      <th></th>\n",
              "      <th>City</th>\n",
              "      <th>City Group</th>\n",
              "      <th>Type</th>\n",
              "      <th>revenue</th>\n",
              "      <th>rev_perct</th>\n",
              "    </tr>\n",
              "  </thead>\n",
              "  <tbody>\n",
              "    <tr>\n",
              "      <th>0</th>\n",
              "      <td>31</td>\n",
              "      <td>Big Cities</td>\n",
              "      <td>IL</td>\n",
              "      <td>5653753</td>\n",
              "      <td>56.53753</td>\n",
              "    </tr>\n",
              "    <tr>\n",
              "      <th>1</th>\n",
              "      <td>3</td>\n",
              "      <td>Big Cities</td>\n",
              "      <td>FC</td>\n",
              "      <td>6923131</td>\n",
              "      <td>69.23131</td>\n",
              "    </tr>\n",
              "    <tr>\n",
              "      <th>2</th>\n",
              "      <td>10</td>\n",
              "      <td>Other</td>\n",
              "      <td>IL</td>\n",
              "      <td>2055379</td>\n",
              "      <td>20.55379</td>\n",
              "    </tr>\n",
              "    <tr>\n",
              "      <th>3</th>\n",
              "      <td>28</td>\n",
              "      <td>Other</td>\n",
              "      <td>IL</td>\n",
              "      <td>2675511</td>\n",
              "      <td>26.75511</td>\n",
              "    </tr>\n",
              "    <tr>\n",
              "      <th>4</th>\n",
              "      <td>14</td>\n",
              "      <td>Other</td>\n",
              "      <td>IL</td>\n",
              "      <td>4316715</td>\n",
              "      <td>43.16715</td>\n",
              "    </tr>\n",
              "  </tbody>\n",
              "</table>\n",
              "</div>"
            ],
            "text/plain": [
              "   City  City Group Type  revenue  rev_perct\n",
              "0    31  Big Cities   IL  5653753   56.53753\n",
              "1     3  Big Cities   FC  6923131   69.23131\n",
              "2    10       Other   IL  2055379   20.55379\n",
              "3    28       Other   IL  2675511   26.75511\n",
              "4    14       Other   IL  4316715   43.16715"
            ]
          },
          "execution_count": 359,
          "metadata": {},
          "output_type": "execute_result"
        }
      ],
      "source": [
        "df.head()"
      ]
    },
    {
      "cell_type": "markdown",
      "metadata": {
        "id": "6tfRKjE0-fWm"
      },
      "source": [
        "--> Split Data into Train and Test"
      ]
    },
    {
      "cell_type": "code",
      "execution_count": null,
      "metadata": {
        "id": "0jmW74WM-fWm"
      },
      "outputs": [],
      "source": [
        "X = df[\"City\"]\n",
        "y = df[\"revenue\"]"
      ]
    },
    {
      "cell_type": "code",
      "execution_count": null,
      "metadata": {
        "id": "kBQ1kovG-fWm"
      },
      "outputs": [],
      "source": [
        "X = X.values.reshape(-1,1)"
      ]
    },
    {
      "cell_type": "code",
      "execution_count": null,
      "metadata": {
        "id": "DXNy1ugB-fWm"
      },
      "outputs": [],
      "source": [
        "X_train, X_test, y_train, y_test = ms.train_test_split(X,y,train_size= 0.8,test_size=0.2, random_state= 2)"
      ]
    },
    {
      "cell_type": "code",
      "execution_count": null,
      "metadata": {
        "id": "4tWO_1B2-fWm"
      },
      "outputs": [],
      "source": [
        "# X_train.head()"
      ]
    },
    {
      "cell_type": "code",
      "execution_count": null,
      "metadata": {
        "id": "VSmhE8lp-fWm",
        "outputId": "1f4c962a-8716-49e2-8721-03f4064242fb"
      },
      "outputs": [
        {
          "data": {
            "text/plain": [
              "78     3871344\n",
              "126    4015749\n",
              "11     5161370\n",
              "130    3376145\n",
              "48     7201784\n",
              "Name: revenue, dtype: int64"
            ]
          },
          "execution_count": 364,
          "metadata": {},
          "output_type": "execute_result"
        }
      ],
      "source": [
        "y_train.head()"
      ]
    },
    {
      "cell_type": "markdown",
      "metadata": {
        "id": "s9yk09Pb-fWm"
      },
      "source": [
        "Statistical models is used to simplify our work\n",
        "\n",
        "\n",
        "OLS - ordinary least square"
      ]
    },
    {
      "cell_type": "code",
      "execution_count": null,
      "metadata": {
        "id": "mpywBraf-fWm"
      },
      "outputs": [],
      "source": [
        "import statsmodels.api as sm\n",
        "X_train_sm = sm.add_constant(X_train)"
      ]
    },
    {
      "cell_type": "code",
      "execution_count": null,
      "metadata": {
        "id": "ukYdGB50-fWn"
      },
      "outputs": [],
      "source": [
        "li_reg_mdl = sm.OLS(y_train, X_train_sm).fit()"
      ]
    },
    {
      "cell_type": "code",
      "execution_count": null,
      "metadata": {
        "id": "Mkj8GpQt-fWn",
        "outputId": "c5aaa97c-0be0-4273-860d-0fc7b25f4e31"
      },
      "outputs": [
        {
          "data": {
            "text/plain": [
              "const    3.506598e+06\n",
              "x1       4.711336e+04\n",
              "dtype: float64"
            ]
          },
          "execution_count": 367,
          "metadata": {},
          "output_type": "execute_result"
        }
      ],
      "source": [
        "li_reg_mdl.params"
      ]
    },
    {
      "cell_type": "code",
      "execution_count": null,
      "metadata": {
        "id": "QTLAHi2k-fWn",
        "outputId": "166d0de9-b6ea-46cb-c9fd-5e5eca8c8979"
      },
      "outputs": [
        {
          "data": {
            "text/html": [
              "<table class=\"simpletable\">\n",
              "<caption>OLS Regression Results</caption>\n",
              "<tr>\n",
              "  <th>Dep. Variable:</th>         <td>revenue</td>     <th>  R-squared:         </th> <td>   0.045</td>\n",
              "</tr>\n",
              "<tr>\n",
              "  <th>Model:</th>                   <td>OLS</td>       <th>  Adj. R-squared:    </th> <td>   0.036</td>\n",
              "</tr>\n",
              "<tr>\n",
              "  <th>Method:</th>             <td>Least Squares</td>  <th>  F-statistic:       </th> <td>   5.060</td>\n",
              "</tr>\n",
              "<tr>\n",
              "  <th>Date:</th>             <td>Sun, 28 May 2023</td> <th>  Prob (F-statistic):</th>  <td>0.0265</td> \n",
              "</tr>\n",
              "<tr>\n",
              "  <th>Time:</th>                 <td>20:52:16</td>     <th>  Log-Likelihood:    </th> <td> -1762.6</td>\n",
              "</tr>\n",
              "<tr>\n",
              "  <th>No. Observations:</th>      <td>   109</td>      <th>  AIC:               </th> <td>   3529.</td>\n",
              "</tr>\n",
              "<tr>\n",
              "  <th>Df Residuals:</th>          <td>   107</td>      <th>  BIC:               </th> <td>   3535.</td>\n",
              "</tr>\n",
              "<tr>\n",
              "  <th>Df Model:</th>              <td>     1</td>      <th>                     </th>     <td> </td>   \n",
              "</tr>\n",
              "<tr>\n",
              "  <th>Covariance Type:</th>      <td>nonrobust</td>    <th>                     </th>     <td> </td>   \n",
              "</tr>\n",
              "</table>\n",
              "<table class=\"simpletable\">\n",
              "<tr>\n",
              "    <td></td>       <th>coef</th>     <th>std err</th>      <th>t</th>      <th>P>|t|</th>  <th>[0.025</th>    <th>0.975]</th>  \n",
              "</tr>\n",
              "<tr>\n",
              "  <th>const</th> <td> 3.507e+06</td> <td> 5.02e+05</td> <td>    6.990</td> <td> 0.000</td> <td> 2.51e+06</td> <td>  4.5e+06</td>\n",
              "</tr>\n",
              "<tr>\n",
              "  <th>x1</th>    <td> 4.711e+04</td> <td> 2.09e+04</td> <td>    2.250</td> <td> 0.027</td> <td> 5594.862</td> <td> 8.86e+04</td>\n",
              "</tr>\n",
              "</table>\n",
              "<table class=\"simpletable\">\n",
              "<tr>\n",
              "  <th>Omnibus:</th>       <td>88.985</td> <th>  Durbin-Watson:     </th> <td>   2.085</td> \n",
              "</tr>\n",
              "<tr>\n",
              "  <th>Prob(Omnibus):</th> <td> 0.000</td> <th>  Jarque-Bera (JB):  </th> <td> 766.073</td> \n",
              "</tr>\n",
              "<tr>\n",
              "  <th>Skew:</th>          <td> 2.686</td> <th>  Prob(JB):          </th> <td>4.46e-167</td>\n",
              "</tr>\n",
              "<tr>\n",
              "  <th>Kurtosis:</th>      <td>14.824</td> <th>  Cond. No.          </th> <td>    48.8</td> \n",
              "</tr>\n",
              "</table><br/><br/>Notes:<br/>[1] Standard Errors assume that the covariance matrix of the errors is correctly specified."
            ],
            "text/plain": [
              "<class 'statsmodels.iolib.summary.Summary'>\n",
              "\"\"\"\n",
              "                            OLS Regression Results                            \n",
              "==============================================================================\n",
              "Dep. Variable:                revenue   R-squared:                       0.045\n",
              "Model:                            OLS   Adj. R-squared:                  0.036\n",
              "Method:                 Least Squares   F-statistic:                     5.060\n",
              "Date:                Sun, 28 May 2023   Prob (F-statistic):             0.0265\n",
              "Time:                        20:52:16   Log-Likelihood:                -1762.6\n",
              "No. Observations:                 109   AIC:                             3529.\n",
              "Df Residuals:                     107   BIC:                             3535.\n",
              "Df Model:                           1                                         \n",
              "Covariance Type:            nonrobust                                         \n",
              "==============================================================================\n",
              "                 coef    std err          t      P>|t|      [0.025      0.975]\n",
              "------------------------------------------------------------------------------\n",
              "const       3.507e+06   5.02e+05      6.990      0.000    2.51e+06     4.5e+06\n",
              "x1          4.711e+04   2.09e+04      2.250      0.027    5594.862    8.86e+04\n",
              "==============================================================================\n",
              "Omnibus:                       88.985   Durbin-Watson:                   2.085\n",
              "Prob(Omnibus):                  0.000   Jarque-Bera (JB):              766.073\n",
              "Skew:                           2.686   Prob(JB):                    4.46e-167\n",
              "Kurtosis:                      14.824   Cond. No.                         48.8\n",
              "==============================================================================\n",
              "\n",
              "Notes:\n",
              "[1] Standard Errors assume that the covariance matrix of the errors is correctly specified.\n",
              "\"\"\""
            ]
          },
          "execution_count": 368,
          "metadata": {},
          "output_type": "execute_result"
        }
      ],
      "source": [
        "li_reg_mdl.summary()"
      ]
    },
    {
      "cell_type": "code",
      "execution_count": null,
      "metadata": {
        "id": "g6aKDwpz-fWn",
        "outputId": "43f2002d-bebb-410d-abe1-09bf52b95fb1"
      },
      "outputs": [
        {
          "data": {
            "text/plain": [
              "78     2.234057e+05\n",
              "126   -1.975497e+05\n",
              "11     1.942576e+05\n",
              "130   -1.261174e+06\n",
              "48     2.847145e+06\n",
              "           ...     \n",
              "75     1.158195e+07\n",
              "43    -9.152933e+05\n",
              "22    -3.985527e+05\n",
              "72    -2.488851e+06\n",
              "15    -1.748194e+06\n",
              "Name: revenue, Length: 109, dtype: float64"
            ]
          },
          "execution_count": 369,
          "metadata": {},
          "output_type": "execute_result"
        }
      ],
      "source": [
        "Y_train_pred = li_reg_mdl.predict(X_train_sm)\n",
        "errors = (y_train - Y_train_pred)\n",
        "errors"
      ]
    },
    {
      "cell_type": "markdown",
      "metadata": {
        "id": "eHpAP5ni-fWn"
      },
      "source": [
        "RMS- Root Mean Square"
      ]
    },
    {
      "cell_type": "markdown",
      "metadata": {
        "id": "xNTy8jKd-fWn"
      },
      "source": [
        "--> Plotting the errors"
      ]
    },
    {
      "cell_type": "code",
      "execution_count": null,
      "metadata": {
        "id": "HRIn5fuk-fWs",
        "outputId": "2556a6e1-d2ca-40a5-81e9-31c9d285ccfe"
      },
      "outputs": [
        {
          "name": "stderr",
          "output_type": "stream",
          "text": [
            "C:\\Users\\tharu\\AppData\\Local\\Temp\\ipykernel_20732\\909450435.py:2: UserWarning: \n",
            "\n",
            "`distplot` is a deprecated function and will be removed in seaborn v0.14.0.\n",
            "\n",
            "Please adapt your code to use either `displot` (a figure-level function with\n",
            "similar flexibility) or `histplot` (an axes-level function for histograms).\n",
            "\n",
            "For a guide to updating your code to use the new functions, please see\n",
            "https://gist.github.com/mwaskom/de44147ed2974457ad6372750bbe5751\n",
            "\n",
            "  sns.distplot(errors, bins=20)\n"
          ]
        },
        {
          "data": {
            "text/plain": [
              "<AxesSubplot: xlabel='revenue', ylabel='Density'>"
            ]
          },
          "execution_count": 370,
          "metadata": {},
          "output_type": "execute_result"
        },
        {
          "data": {
            "image/png": "[encoded data removed]",
            "text/plain": [
              "<Figure size 640x480 with 1 Axes>"
            ]
          },
          "metadata": {},
          "output_type": "display_data"
        }
      ],
      "source": [
        "fig = plt.figure()\n",
        "sns.distplot(errors, bins=20)"
      ]
    },
    {
      "cell_type": "markdown",
      "metadata": {
        "id": "cfM9DEbm-fWs"
      },
      "source": [
        "--> Ploting the X_train and error using scatter plot"
      ]
    },
    {
      "cell_type": "code",
      "execution_count": null,
      "metadata": {
        "id": "uzjBEQQ9-fWs",
        "outputId": "91fedeb1-7d2f-45dd-94c4-f15a2bc98ec2"
      },
      "outputs": [
        {
          "data": {
            "text/plain": [
              "<matplotlib.collections.PathCollection at 0x193402dd0f0>"
            ]
          },
          "execution_count": 371,
          "metadata": {},
          "output_type": "execute_result"
        },
        {
          "data": {
            "image/png": "[encoded data removed]",
            "text/plain": [
              "<Figure size 640x480 with 1 Axes>"
            ]
          },
          "metadata": {},
          "output_type": "display_data"
        }
      ],
      "source": [
        "plt.scatter(X_train, errors)"
      ]
    },
    {
      "cell_type": "code",
      "execution_count": null,
      "metadata": {
        "id": "TFY81vhX-fWs"
      },
      "outputs": [],
      "source": [
        "X_test_sm = sm.add_constant(X_test)"
      ]
    },
    {
      "cell_type": "code",
      "execution_count": null,
      "metadata": {
        "id": "9_SDiUUx-fWs",
        "outputId": "4bad709c-baaf-48cc-d923-81101142901d"
      },
      "outputs": [
        {
          "data": {
            "text/plain": [
              "array([3742165.066547  , 4590205.53932594, 4967112.41611657,\n",
              "       3647938.34734935, 3695051.70694818, 4825772.33732008,\n",
              "       4967112.41611657, 4495978.82012828, 3647938.34734935,\n",
              "       4967112.41611657, 4967112.41611657, 4967112.41611657,\n",
              "       4967112.41611657, 3977731.86454115, 4119071.94333764,\n",
              "       3930618.50494232, 4967112.41611657, 3600824.98775052,\n",
              "       3883505.14534349, 4967112.41611657, 4967112.41611657,\n",
              "       4731545.61812242, 4967112.41611657, 4967112.41611657,\n",
              "       4778658.97772125, 3647938.34734935, 4590205.53932594,\n",
              "       3647938.34734935])"
            ]
          },
          "execution_count": 373,
          "metadata": {},
          "output_type": "execute_result"
        }
      ],
      "source": [
        "Y_preds = li_reg_mdl.predict(X_test_sm)\n",
        "Y_preds"
      ]
    },
    {
      "cell_type": "code",
      "execution_count": null,
      "metadata": {
        "id": "Df1D7VKf-fWs"
      },
      "outputs": [],
      "source": [
        "from sklearn.metrics import mean_squared_error\n",
        "from sklearn.metrics import r2_score"
      ]
    },
    {
      "cell_type": "code",
      "execution_count": null,
      "metadata": {
        "id": "1zptKFM2-fWt",
        "outputId": "5bd4819f-2d72-4934-b106-8980ac8cd8ea"
      },
      "outputs": [
        {
          "data": {
            "text/plain": [
              "2173652.262653806"
            ]
          },
          "execution_count": 375,
          "metadata": {},
          "output_type": "execute_result"
        }
      ],
      "source": [
        "np.sqrt(mean_squared_error(y_test, Y_preds))"
      ]
    },
    {
      "cell_type": "markdown",
      "metadata": {
        "id": "t_AXij97-fWt"
      },
      "source": [
        "--> r_score"
      ]
    },
    {
      "cell_type": "code",
      "execution_count": null,
      "metadata": {
        "id": "fquRfKia-fWt",
        "outputId": "90e8f38d-8cb4-4e40-bbbe-8e936f8a2a6d"
      },
      "outputs": [
        {
          "data": {
            "text/plain": [
              "0.17135902491374555"
            ]
          },
          "execution_count": 376,
          "metadata": {},
          "output_type": "execute_result"
        }
      ],
      "source": [
        "r_score = r2_score(y_test, Y_preds)\n",
        "r_score"
      ]
    },
    {
      "cell_type": "markdown",
      "metadata": {
        "id": "OjeLgOAx-fWt"
      },
      "source": [
        "## Conclusion:-\n",
        "\n",
        "1. Linear Regression Model is used to predect the revinue of Cities.\n",
        "2. Performed visualization tools to check the revenue by various factors.\n",
        "3. Label encoder is used to encode the categorical data of City column to numerical values.\n",
        "4. Statistical model is used to simplyfy our work on linear regression model.\n",
        "5. Our model prediction is 0.17"
      ]
    },
    {
      "cell_type": "markdown",
      "metadata": {
        "id": "E4W27ehE-fWt"
      },
      "source": [
        "## Model-2 Random Forest"
      ]
    },
    {
      "cell_type": "code",
      "execution_count": null,
      "metadata": {
        "id": "PSELLDlC-fWt"
      },
      "outputs": [],
      "source": [
        "from sklearn.ensemble import RandomForestClassifier\n",
        "from sklearn.model_selection import train_test_split\n",
        "from sklearn.metrics import accuracy_score"
      ]
    },
    {
      "cell_type": "code",
      "execution_count": null,
      "metadata": {
        "id": "3YaH1q8J-fWt",
        "outputId": "6b51f8fd-cae0-4e19-8da7-0a4caf13e311"
      },
      "outputs": [
        {
          "data": {
            "text/html": [
              "<style>#sk-container-id-15 {color: black;background-color: white;}#sk-container-id-15 pre{padding: 0;}#sk-container-id-15 div.sk-toggleable {background-color: white;}#sk-container-id-15 label.sk-toggleable__label {cursor: pointer;display: block;width: 100%;margin-bottom: 0;padding: 0.3em;box-sizing: border-box;text-align: center;}#sk-container-id-15 label.sk-toggleable__label-arrow:before {content: \"▸\";float: left;margin-right: 0.25em;color: #696969;}#sk-container-id-15 label.sk-toggleable__label-arrow:hover:before {color: black;}#sk-container-id-15 div.sk-estimator:hover label.sk-toggleable__label-arrow:before {color: black;}#sk-container-id-15 div.sk-toggleable__content {max-height: 0;max-width: 0;overflow: hidden;text-align: left;background-color: #f0f8ff;}#sk-container-id-15 div.sk-toggleable__content pre {margin: 0.2em;color: black;border-radius: 0.25em;background-color: #f0f8ff;}#sk-container-id-15 input.sk-toggleable__control:checked~div.sk-toggleable__content {max-height: 200px;max-width: 100%;overflow: auto;}#sk-container-id-15 input.sk-toggleable__control:checked~label.sk-toggleable__label-arrow:before {content: \"▾\";}#sk-container-id-15 div.sk-estimator input.sk-toggleable__control:checked~label.sk-toggleable__label {background-color: #d4ebff;}#sk-container-id-15 div.sk-label input.sk-toggleable__control:checked~label.sk-toggleable__label {background-color: #d4ebff;}#sk-container-id-15 input.sk-hidden--visually {border: 0;clip: rect(1px 1px 1px 1px);clip: rect(1px, 1px, 1px, 1px);height: 1px;margin: -1px;overflow: hidden;padding: 0;position: absolute;width: 1px;}#sk-container-id-15 div.sk-estimator {font-family: monospace;background-color: #f0f8ff;border: 1px dotted black;border-radius: 0.25em;box-sizing: border-box;margin-bottom: 0.5em;}#sk-container-id-15 div.sk-estimator:hover {background-color: #d4ebff;}#sk-container-id-15 div.sk-parallel-item::after {content: \"\";width: 100%;border-bottom: 1px solid gray;flex-grow: 1;}#sk-container-id-15 div.sk-label:hover label.sk-toggleable__label {background-color: #d4ebff;}#sk-container-id-15 div.sk-serial::before {content: \"\";position: absolute;border-left: 1px solid gray;box-sizing: border-box;top: 0;bottom: 0;left: 50%;z-index: 0;}#sk-container-id-15 div.sk-serial {display: flex;flex-direction: column;align-items: center;background-color: white;padding-right: 0.2em;padding-left: 0.2em;position: relative;}#sk-container-id-15 div.sk-item {position: relative;z-index: 1;}#sk-container-id-15 div.sk-parallel {display: flex;align-items: stretch;justify-content: center;background-color: white;position: relative;}#sk-container-id-15 div.sk-item::before, #sk-container-id-15 div.sk-parallel-item::before {content: \"\";position: absolute;border-left: 1px solid gray;box-sizing: border-box;top: 0;bottom: 0;left: 50%;z-index: -1;}#sk-container-id-15 div.sk-parallel-item {display: flex;flex-direction: column;z-index: 1;position: relative;background-color: white;}#sk-container-id-15 div.sk-parallel-item:first-child::after {align-self: flex-end;width: 50%;}#sk-container-id-15 div.sk-parallel-item:last-child::after {align-self: flex-start;width: 50%;}#sk-container-id-15 div.sk-parallel-item:only-child::after {width: 0;}#sk-container-id-15 div.sk-dashed-wrapped {border: 1px dashed gray;margin: 0 0.4em 0.5em 0.4em;box-sizing: border-box;padding-bottom: 0.4em;background-color: white;}#sk-container-id-15 div.sk-label label {font-family: monospace;font-weight: bold;display: inline-block;line-height: 1.2em;}#sk-container-id-15 div.sk-label-container {text-align: center;}#sk-container-id-15 div.sk-container {/* jupyter's `normalize.less` sets `[hidden] { display: none; }` but bootstrap.min.css set `[hidden] { display: none !important; }` so we also need the `!important` here to be able to override the default hidden behavior on the sphinx rendered scikit-learn.org. See: https://github.com/scikit-learn/scikit-learn/issues/21755 */display: inline-block !important;position: relative;}#sk-container-id-15 div.sk-text-repr-fallback {display: none;}</style><div id=\"sk-container-id-15\" class=\"sk-top-container\"><div class=\"sk-text-repr-fallback\"><pre>RandomForestClassifier(random_state=20)</pre><b>In a Jupyter environment, please rerun this cell to show the HTML representation or trust the notebook. <br />On GitHub, the HTML representation is unable to render, please try loading this page with nbviewer.org.</b></div><div class=\"sk-container\" hidden><div class=\"sk-item\"><div class=\"sk-estimator sk-toggleable\"><input class=\"sk-toggleable__control sk-hidden--visually\" id=\"sk-estimator-id-15\" type=\"checkbox\" checked><label for=\"sk-estimator-id-15\" class=\"sk-toggleable__label sk-toggleable__label-arrow\">RandomForestClassifier</label><div class=\"sk-toggleable__content\"><pre>RandomForestClassifier(random_state=20)</pre></div></div></div></div></div>"
            ],
            "text/plain": [
              "RandomForestClassifier(random_state=20)"
            ]
          },
          "execution_count": 391,
          "metadata": {},
          "output_type": "execute_result"
        }
      ],
      "source": [
        "rf_classifier = RandomForestClassifier(random_state= 20)\n",
        "rf_classifier.fit(X_train_sm, y_train)"
      ]
    },
    {
      "cell_type": "code",
      "execution_count": null,
      "metadata": {
        "id": "Zgj6UTPF-fWv",
        "outputId": "4775591a-3802-4b30-fc2e-f2f419ebdb5a"
      },
      "outputs": [
        {
          "data": {
            "text/plain": [
              "0.0"
            ]
          },
          "execution_count": 392,
          "metadata": {},
          "output_type": "execute_result"
        }
      ],
      "source": [
        "y_pred1 = rf_classifier.predict(X_test_sm)\n",
        "accuracy = accuracy_score(y_test, y_pred1)\n",
        "accuracy"
      ]
    },
    {
      "cell_type": "markdown",
      "metadata": {
        "id": "DA9bu1I4-fWv"
      },
      "source": [
        "--> In Randome forest Model the accuracy score is 0"
      ]
    },
    {
      "cell_type": "markdown",
      "metadata": {
        "id": "-URXnKR4-fWv"
      },
      "source": [
        "## Model-3. SVM Model"
      ]
    },
    {
      "cell_type": "code",
      "execution_count": null,
      "metadata": {
        "id": "Co_Eznah-fWv"
      },
      "outputs": [],
      "source": [
        "from sklearn.svm import SVC\n",
        "from sklearn.preprocessing import StandardScaler"
      ]
    },
    {
      "cell_type": "code",
      "execution_count": null,
      "metadata": {
        "id": "Rrh5f2uO-fWw"
      },
      "outputs": [],
      "source": [
        "scaler = StandardScaler()\n",
        "X_train = scaler.fit_transform(X_train_sm)\n",
        "X_test = scaler.transform(X_test_sm)"
      ]
    },
    {
      "cell_type": "code",
      "execution_count": null,
      "metadata": {
        "id": "Ge_vQ7BC-fWw",
        "outputId": "e340bbcb-3b17-45b0-fc5c-ca0388dbb9d7"
      },
      "outputs": [
        {
          "data": {
            "text/html": [
              "<div>\n",
              "<style scoped>\n",
              "    .dataframe tbody tr th:only-of-type {\n",
              "        vertical-align: middle;\n",
              "    }\n",
              "\n",
              "    .dataframe tbody tr th {\n",
              "        vertical-align: top;\n",
              "    }\n",
              "\n",
              "    .dataframe thead th {\n",
              "        text-align: right;\n",
              "    }\n",
              "</style>\n",
              "<table border=\"1\" class=\"dataframe\">\n",
              "  <thead>\n",
              "    <tr style=\"text-align: right;\">\n",
              "      <th></th>\n",
              "      <th>0</th>\n",
              "      <th>1</th>\n",
              "    </tr>\n",
              "  </thead>\n",
              "  <tbody>\n",
              "    <tr>\n",
              "      <th>count</th>\n",
              "      <td>109.0</td>\n",
              "      <td>109.000000</td>\n",
              "    </tr>\n",
              "    <tr>\n",
              "      <th>mean</th>\n",
              "      <td>1.0</td>\n",
              "      <td>20.862385</td>\n",
              "    </tr>\n",
              "    <tr>\n",
              "      <th>std</th>\n",
              "      <td>0.0</td>\n",
              "      <td>11.823915</td>\n",
              "    </tr>\n",
              "    <tr>\n",
              "      <th>min</th>\n",
              "      <td>1.0</td>\n",
              "      <td>0.000000</td>\n",
              "    </tr>\n",
              "    <tr>\n",
              "      <th>25%</th>\n",
              "      <td>1.0</td>\n",
              "      <td>8.000000</td>\n",
              "    </tr>\n",
              "    <tr>\n",
              "      <th>50%</th>\n",
              "      <td>1.0</td>\n",
              "      <td>26.000000</td>\n",
              "    </tr>\n",
              "    <tr>\n",
              "      <th>75%</th>\n",
              "      <td>1.0</td>\n",
              "      <td>31.000000</td>\n",
              "    </tr>\n",
              "    <tr>\n",
              "      <th>max</th>\n",
              "      <td>1.0</td>\n",
              "      <td>33.000000</td>\n",
              "    </tr>\n",
              "  </tbody>\n",
              "</table>\n",
              "</div>"
            ],
            "text/plain": [
              "           0           1\n",
              "count  109.0  109.000000\n",
              "mean     1.0   20.862385\n",
              "std      0.0   11.823915\n",
              "min      1.0    0.000000\n",
              "25%      1.0    8.000000\n",
              "50%      1.0   26.000000\n",
              "75%      1.0   31.000000\n",
              "max      1.0   33.000000"
            ]
          },
          "execution_count": 394,
          "metadata": {},
          "output_type": "execute_result"
        }
      ],
      "source": [
        "X_train = pd.DataFrame(X_train_sm)\n",
        "X_test = pd.DataFrame(X_test_sm)\n",
        "X_train.describe()"
      ]
    },
    {
      "cell_type": "code",
      "execution_count": null,
      "metadata": {
        "id": "J15WUNxY-fWw",
        "outputId": "95414c7a-b1c8-4275-919e-5ee49ddc9289"
      },
      "outputs": [
        {
          "data": {
            "text/plain": [
              "0.0"
            ]
          },
          "execution_count": 396,
          "metadata": {},
          "output_type": "execute_result"
        }
      ],
      "source": [
        "svm_cls = SVC(kernel='linear', random_state= 2)\n",
        "svm_cls.fit(X_train_sm, y_train)\n",
        "y_pred2 = svm_cls.predict(X_test_sm)\n",
        "svm_accuracy = accuracy_score(y_test, y_pred2)\n",
        "svm_accuracy"
      ]
    },
    {
      "cell_type": "markdown",
      "metadata": {
        "id": "pm7c9bHn-fWw"
      },
      "source": [
        "--> In SVM also the prediction is 0"
      ]
    },
    {
      "cell_type": "markdown",
      "metadata": {
        "id": "hH8PZ_3e-fWw"
      },
      "source": [
        "## Model-4:- Logistic Regression"
      ]
    },
    {
      "cell_type": "code",
      "execution_count": null,
      "metadata": {
        "id": "NMXG52Kc-fWw"
      },
      "outputs": [],
      "source": [
        "from sklearn.linear_model import LogisticRegression"
      ]
    },
    {
      "cell_type": "code",
      "execution_count": null,
      "metadata": {
        "id": "xHxIYDg9-fWw",
        "outputId": "9b7efddf-79e9-4f49-ee03-0ca048e76d6e"
      },
      "outputs": [
        {
          "name": "stderr",
          "output_type": "stream",
          "text": [
            "C:\\Users\\tharu\\AppData\\Roaming\\Python\\Python310\\site-packages\\sklearn\\linear_model\\_logistic.py:458: ConvergenceWarning: lbfgs failed to converge (status=1):\n",
            "STOP: TOTAL NO. of ITERATIONS REACHED LIMIT.\n",
            "\n",
            "Increase the number of iterations (max_iter) or scale the data as shown in:\n",
            "    https://scikit-learn.org/stable/modules/preprocessing.html\n",
            "Please also refer to the documentation for alternative solver options:\n",
            "    https://scikit-learn.org/stable/modules/linear_model.html#logistic-regression\n",
            "  n_iter_i = _check_optimize_result(\n"
          ]
        }
      ],
      "source": [
        "Log_reg = LogisticRegression()\n",
        "Log_reg.fit(X_train_sm,y_train)\n",
        "y_pred3 = Log_reg.predict(X_test_sm)"
      ]
    },
    {
      "cell_type": "code",
      "execution_count": null,
      "metadata": {
        "id": "XrQ8_YPp-fWx",
        "outputId": "76ad5dec-9b80-4649-c787-bb700c4403f9"
      },
      "outputs": [
        {
          "data": {
            "text/plain": [
              "0.0"
            ]
          },
          "execution_count": 400,
          "metadata": {},
          "output_type": "execute_result"
        }
      ],
      "source": [
        "log_accuracy = accuracy_score(y_test,y_pred3)\n",
        "log_accuracy"
      ]
    },
    {
      "cell_type": "markdown",
      "metadata": {
        "id": "Q_81tie8-fWx"
      },
      "source": [
        "--> In Model-4 also accuracy score is 0"
      ]
    },
    {
      "cell_type": "markdown",
      "metadata": {
        "id": "Ygwp_ne1-fWx"
      },
      "source": [
        "# Conclussion\n",
        "## From above predictions the Linear regression model is predicting some better score"
      ]
    }
  ],
  "metadata": {
    "kernelspec": {
      "display_name": "Python 3",
      "language": "python",
      "name": "python3"
    },
    "language_info": {
      "codemirror_mode": {
        "name": "ipython",
        "version": 3
      },
      "file_extension": ".py",
      "mimetype": "text/x-python",
      "name": "python",
      "nbconvert_exporter": "python",
      "pygments_lexer": "ipython3",
      "version": "3.10.5"
    },
    "orig_nbformat": 4,
    "colab": {
      "provenance": [],
      "include_colab_link": true
    }
  },
  "nbformat": 4,
  "nbformat_minor": 0
}